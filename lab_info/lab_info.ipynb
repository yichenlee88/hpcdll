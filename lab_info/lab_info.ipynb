{
 "cells": [
  {
   "cell_type": "code",
   "execution_count": 2,
   "id": "4b87ab8b",
   "metadata": {},
   "outputs": [],
   "source": [
    "import re"
   ]
  },
  {
   "cell_type": "code",
   "execution_count": 3,
   "id": "6962fbba",
   "metadata": {},
   "outputs": [],
   "source": [
    "def find_name(f):\n",
    "    date = re.findall(\"\\d\\d/\\d\\d/\\d\\d\\d\\d - \\d\\d/\\d\\d/\\d\\d\\d\\d\",f)\n",
    "    end = f.index(\",\")\n",
    "    #name = re.findall(\"[\\u4e00-\\u9fa5,A-Za-z,1-9,\\s,(,)]+\", f[0:end])\n",
    "    name =  f[0:end]\n",
    "    return [date,name]"
   ]
  },
  {
   "cell_type": "code",
   "execution_count": null,
   "id": "3c0a83bf",
   "metadata": {},
   "outputs": [],
   "source": [
    "#計畫"
   ]
  },
  {
   "cell_type": "code",
   "execution_count": 4,
   "id": "4be0bcc9",
   "metadata": {
    "scrolled": true
   },
   "outputs": [
    {
     "data": {
      "text/html": [
       "<div>\n",
       "<style scoped>\n",
       "    .dataframe tbody tr th:only-of-type {\n",
       "        vertical-align: middle;\n",
       "    }\n",
       "\n",
       "    .dataframe tbody tr th {\n",
       "        vertical-align: top;\n",
       "    }\n",
       "\n",
       "    .dataframe thead th {\n",
       "        text-align: right;\n",
       "    }\n",
       "</style>\n",
       "<table border=\"1\" class=\"dataframe\">\n",
       "  <thead>\n",
       "    <tr style=\"text-align: right;\">\n",
       "      <th></th>\n",
       "      <th>name</th>\n",
       "      <th>time</th>\n",
       "    </tr>\n",
       "  </thead>\n",
       "  <tbody>\n",
       "    <tr>\n",
       "      <th>0</th>\n",
       "      <td>Deep Learning Feature Extraction Based Coheren...</td>\n",
       "      <td>08/01/2022 - 07/31/2023</td>\n",
       "    </tr>\n",
       "    <tr>\n",
       "      <th>1</th>\n",
       "      <td>High Performance GPU Based Deep Learning Appli...</td>\n",
       "      <td>05/01/2022 - 04/30/2023</td>\n",
       "    </tr>\n",
       "    <tr>\n",
       "      <th>2</th>\n",
       "      <td>The Strategy Alliance of Artificial Intelligen...</td>\n",
       "      <td>02/01/2022 - 01/31/2023</td>\n",
       "    </tr>\n",
       "    <tr>\n",
       "      <th>3</th>\n",
       "      <td>Deep Learning Face Recognition Applied to Dorm...</td>\n",
       "      <td>11/01/2021 - 10/31/2022</td>\n",
       "    </tr>\n",
       "    <tr>\n",
       "      <th>4</th>\n",
       "      <td>High Performance GPU Applied to SAR Imaging Im...</td>\n",
       "      <td>05/01/2021 - 04/30/2022</td>\n",
       "    </tr>\n",
       "    <tr>\n",
       "      <th>...</th>\n",
       "      <td>...</td>\n",
       "      <td>...</td>\n",
       "    </tr>\n",
       "    <tr>\n",
       "      <th>79</th>\n",
       "      <td>An Integrated Track for Development of DSP Emb...</td>\n",
       "      <td>08/01/2004 - 07/31/2005</td>\n",
       "    </tr>\n",
       "    <tr>\n",
       "      <th>80</th>\n",
       "      <td>An Integrated Track for Development of Reconfi...</td>\n",
       "      <td>08/01/2003 - 07/31/2004</td>\n",
       "    </tr>\n",
       "    <tr>\n",
       "      <th>81</th>\n",
       "      <td>An Integrated Track for Development of System ...</td>\n",
       "      <td>08/01/2002 - 07/31/2003</td>\n",
       "    </tr>\n",
       "    <tr>\n",
       "      <th>82</th>\n",
       "      <td>An Integrated Track for Development of VLSI (超...</td>\n",
       "      <td>08/01/2001 - 07/31/2002</td>\n",
       "    </tr>\n",
       "    <tr>\n",
       "      <th>83</th>\n",
       "      <td>Frequency Modulated Continuous Wave</td>\n",
       "      <td>08/01/2009 - 07/31/2010</td>\n",
       "    </tr>\n",
       "  </tbody>\n",
       "</table>\n",
       "<p>84 rows × 2 columns</p>\n",
       "</div>"
      ],
      "text/plain": [
       "                                                 name                     time\n",
       "0   Deep Learning Feature Extraction Based Coheren...  08/01/2022 - 07/31/2023\n",
       "1   High Performance GPU Based Deep Learning Appli...  05/01/2022 - 04/30/2023\n",
       "2   The Strategy Alliance of Artificial Intelligen...  02/01/2022 - 01/31/2023\n",
       "3   Deep Learning Face Recognition Applied to Dorm...  11/01/2021 - 10/31/2022\n",
       "4   High Performance GPU Applied to SAR Imaging Im...  05/01/2021 - 04/30/2022\n",
       "..                                                ...                      ...\n",
       "79  An Integrated Track for Development of DSP Emb...  08/01/2004 - 07/31/2005\n",
       "80  An Integrated Track for Development of Reconfi...  08/01/2003 - 07/31/2004\n",
       "81  An Integrated Track for Development of System ...  08/01/2002 - 07/31/2003\n",
       "82  An Integrated Track for Development of VLSI (超...  08/01/2001 - 07/31/2002\n",
       "83                Frequency Modulated Continuous Wave  08/01/2009 - 07/31/2010\n",
       "\n",
       "[84 rows x 2 columns]"
      ]
     },
     "execution_count": 4,
     "metadata": {},
     "output_type": "execute_result"
    }
   ],
   "source": [
    "import pandas as pd\n",
    "f = open(\".\\\\project.txt\", encoding=\"utf8\")\n",
    "result = {\"name\":[],\"time\":[]}\n",
    "count = 0\n",
    "while 1:\n",
    "    count+=1\n",
    "    text = f.readline()\n",
    "    if text == '':\n",
    "        break\n",
    "    finded = find_name(text)\n",
    "    result[\"time\"].append(finded[0][0])\n",
    "    result[\"name\"].append(finded[1])\n",
    "result\n",
    "my_dataframe = pd.DataFrame(result)\n",
    "my_dataframe"
   ]
  },
  {
   "cell_type": "code",
   "execution_count": 5,
   "id": "25cc2913",
   "metadata": {},
   "outputs": [],
   "source": [
    "my_dataframe.to_csv(\"lab_project_list.csv\", sep='\\t', encoding='utf8')"
   ]
  },
  {
   "cell_type": "code",
   "execution_count": null,
   "id": "01dff73a",
   "metadata": {},
   "outputs": [],
   "source": [
    "#獲獎紀錄"
   ]
  },
  {
   "cell_type": "code",
   "execution_count": 8,
   "id": "907c18f5",
   "metadata": {},
   "outputs": [
    {
     "data": {
      "text/html": [
       "<div>\n",
       "<style scoped>\n",
       "    .dataframe tbody tr th:only-of-type {\n",
       "        vertical-align: middle;\n",
       "    }\n",
       "\n",
       "    .dataframe tbody tr th {\n",
       "        vertical-align: top;\n",
       "    }\n",
       "\n",
       "    .dataframe thead th {\n",
       "        text-align: right;\n",
       "    }\n",
       "</style>\n",
       "<table border=\"1\" class=\"dataframe\">\n",
       "  <thead>\n",
       "    <tr style=\"text-align: right;\">\n",
       "      <th></th>\n",
       "      <th>title</th>\n",
       "    </tr>\n",
       "  </thead>\n",
       "  <tbody>\n",
       "    <tr>\n",
       "      <th>0</th>\n",
       "      <td>Deep Learning Feature Extraction Based Coheren...</td>\n",
       "    </tr>\n",
       "    <tr>\n",
       "      <th>1</th>\n",
       "      <td>High Performance GPU Based Deep Learning Appli...</td>\n",
       "    </tr>\n",
       "    <tr>\n",
       "      <th>2</th>\n",
       "      <td>The Strategy Alliance of Artificial Intelligen...</td>\n",
       "    </tr>\n",
       "    <tr>\n",
       "      <th>3</th>\n",
       "      <td>Deep Learning Face Recognition Applied to Dorm...</td>\n",
       "    </tr>\n",
       "    <tr>\n",
       "      <th>4</th>\n",
       "      <td>High Performance GPU Applied to SAR Imaging Im...</td>\n",
       "    </tr>\n",
       "    <tr>\n",
       "      <th>...</th>\n",
       "      <td>...</td>\n",
       "    </tr>\n",
       "    <tr>\n",
       "      <th>79</th>\n",
       "      <td>An Integrated Track for Development of DSP Emb...</td>\n",
       "    </tr>\n",
       "    <tr>\n",
       "      <th>80</th>\n",
       "      <td>An Integrated Track for Development of Reconfi...</td>\n",
       "    </tr>\n",
       "    <tr>\n",
       "      <th>81</th>\n",
       "      <td>An Integrated Track for Development of System ...</td>\n",
       "    </tr>\n",
       "    <tr>\n",
       "      <th>82</th>\n",
       "      <td>An Integrated Track for Development of VLSI (超...</td>\n",
       "    </tr>\n",
       "    <tr>\n",
       "      <th>83</th>\n",
       "      <td>Frequency Modulated Continuous Wave, Synthetic...</td>\n",
       "    </tr>\n",
       "  </tbody>\n",
       "</table>\n",
       "<p>84 rows × 1 columns</p>\n",
       "</div>"
      ],
      "text/plain": [
       "                                                title\n",
       "0   Deep Learning Feature Extraction Based Coheren...\n",
       "1   High Performance GPU Based Deep Learning Appli...\n",
       "2   The Strategy Alliance of Artificial Intelligen...\n",
       "3   Deep Learning Face Recognition Applied to Dorm...\n",
       "4   High Performance GPU Applied to SAR Imaging Im...\n",
       "..                                                ...\n",
       "79  An Integrated Track for Development of DSP Emb...\n",
       "80  An Integrated Track for Development of Reconfi...\n",
       "81  An Integrated Track for Development of System ...\n",
       "82  An Integrated Track for Development of VLSI (超...\n",
       "83  Frequency Modulated Continuous Wave, Synthetic...\n",
       "\n",
       "[84 rows x 1 columns]"
      ]
     },
     "execution_count": 8,
     "metadata": {},
     "output_type": "execute_result"
    }
   ],
   "source": [
    "import pandas as pd\n",
    "f = open(\".\\\\project.txt\", encoding=\"utf8\")\n",
    "result = {\"title\":[]}\n",
    "count = 0\n",
    "while 1:\n",
    "    count+=1\n",
    "    text = f.readline()\n",
    "    if text == '':\n",
    "        break\n",
    "    result[\"title\"].append(text)\n",
    "my_dataframe = pd.DataFrame(result)\n",
    "my_dataframe"
   ]
  },
  {
   "cell_type": "code",
   "execution_count": 9,
   "id": "a7497423",
   "metadata": {},
   "outputs": [],
   "source": [
    "my_dataframe.to_csv(\"lab_award_list.csv\", sep='\\t', encoding='utf8')"
   ]
  },
  {
   "cell_type": "code",
   "execution_count": 10,
   "id": "7ee61e44",
   "metadata": {},
   "outputs": [],
   "source": [
    "#interest"
   ]
  },
  {
   "cell_type": "code",
   "execution_count": null,
   "id": "4ebf9927",
   "metadata": {},
   "outputs": [],
   "source": []
  }
 ],
 "metadata": {
  "kernelspec": {
   "display_name": "Python 3",
   "language": "python",
   "name": "python3"
  },
  "language_info": {
   "codemirror_mode": {
    "name": "ipython",
    "version": 3
   },
   "file_extension": ".py",
   "mimetype": "text/x-python",
   "name": "python",
   "nbconvert_exporter": "python",
   "pygments_lexer": "ipython3",
   "version": "3.8.8"
  }
 },
 "nbformat": 4,
 "nbformat_minor": 5
}
